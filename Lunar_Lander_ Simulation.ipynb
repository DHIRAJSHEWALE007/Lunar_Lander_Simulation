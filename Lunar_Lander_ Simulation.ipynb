{
  "cells": [
    {
      "cell_type": "code",
      "execution_count": null,
      "metadata": {
        "colab": {
          "base_uri": "https://localhost:8080/"
        },
        "collapsed": true,
        "id": "4sGC2Vn6AhaU",
        "outputId": "c164ecea-60bd-4668-951a-554f3fa28d46"
      },
      "outputs": [
        {
          "name": "stdout",
          "output_type": "stream",
          "text": [
            "Collecting pyvirtualdisplay\n",
            "  Downloading PyVirtualDisplay-3.0-py3-none-any.whl.metadata (943 bytes)\n",
            "Downloading PyVirtualDisplay-3.0-py3-none-any.whl (15 kB)\n",
            "Installing collected packages: pyvirtualdisplay\n",
            "Successfully installed pyvirtualdisplay-3.0\n",
            "Reading package lists... Done\n",
            "Building dependency tree... Done\n",
            "Reading state information... Done\n",
            "The following additional packages will be installed:\n",
            "  libfontenc1 libxfont2 libxkbfile1 x11-xkb-utils xfonts-base xfonts-encodings xfonts-utils\n",
            "  xserver-common\n",
            "The following NEW packages will be installed:\n",
            "  libfontenc1 libxfont2 libxkbfile1 x11-xkb-utils xfonts-base xfonts-encodings xfonts-utils\n",
            "  xserver-common xvfb\n",
            "0 upgraded, 9 newly installed, 0 to remove and 49 not upgraded.\n",
            "Need to get 7,813 kB of archives.\n",
            "After this operation, 11.9 MB of additional disk space will be used.\n",
            "Get:1 http://archive.ubuntu.com/ubuntu jammy/main amd64 libfontenc1 amd64 1:1.1.4-1build3 [14.7 kB]\n",
            "Get:2 http://archive.ubuntu.com/ubuntu jammy/main amd64 libxfont2 amd64 1:2.0.5-1build1 [94.5 kB]\n",
            "Get:3 http://archive.ubuntu.com/ubuntu jammy/main amd64 libxkbfile1 amd64 1:1.1.0-1build3 [71.8 kB]\n",
            "Get:4 http://archive.ubuntu.com/ubuntu jammy/main amd64 x11-xkb-utils amd64 7.7+5build4 [172 kB]\n",
            "Get:5 http://archive.ubuntu.com/ubuntu jammy/main amd64 xfonts-encodings all 1:1.0.5-0ubuntu2 [578 kB]\n",
            "Get:6 http://archive.ubuntu.com/ubuntu jammy/main amd64 xfonts-utils amd64 1:7.7+6build2 [94.6 kB]\n",
            "Get:7 http://archive.ubuntu.com/ubuntu jammy/main amd64 xfonts-base all 1:1.0.5 [5,896 kB]\n",
            "Get:8 http://archive.ubuntu.com/ubuntu jammy-updates/main amd64 xserver-common all 2:21.1.4-2ubuntu1.7~22.04.11 [28.6 kB]\n",
            "Get:9 http://archive.ubuntu.com/ubuntu jammy-updates/universe amd64 xvfb amd64 2:21.1.4-2ubuntu1.7~22.04.11 [863 kB]\n",
            "Fetched 7,813 kB in 2s (4,048 kB/s)\n",
            "Selecting previously unselected package libfontenc1:amd64.\n",
            "(Reading database ... 123597 files and directories currently installed.)\n",
            "Preparing to unpack .../0-libfontenc1_1%3a1.1.4-1build3_amd64.deb ...\n",
            "Unpacking libfontenc1:amd64 (1:1.1.4-1build3) ...\n",
            "Selecting previously unselected package libxfont2:amd64.\n",
            "Preparing to unpack .../1-libxfont2_1%3a2.0.5-1build1_amd64.deb ...\n",
            "Unpacking libxfont2:amd64 (1:2.0.5-1build1) ...\n",
            "Selecting previously unselected package libxkbfile1:amd64.\n",
            "Preparing to unpack .../2-libxkbfile1_1%3a1.1.0-1build3_amd64.deb ...\n",
            "Unpacking libxkbfile1:amd64 (1:1.1.0-1build3) ...\n",
            "Selecting previously unselected package x11-xkb-utils.\n",
            "Preparing to unpack .../3-x11-xkb-utils_7.7+5build4_amd64.deb ...\n",
            "Unpacking x11-xkb-utils (7.7+5build4) ...\n",
            "Selecting previously unselected package xfonts-encodings.\n",
            "Preparing to unpack .../4-xfonts-encodings_1%3a1.0.5-0ubuntu2_all.deb ...\n",
            "Unpacking xfonts-encodings (1:1.0.5-0ubuntu2) ...\n",
            "Selecting previously unselected package xfonts-utils.\n",
            "Preparing to unpack .../5-xfonts-utils_1%3a7.7+6build2_amd64.deb ...\n",
            "Unpacking xfonts-utils (1:7.7+6build2) ...\n",
            "Selecting previously unselected package xfonts-base.\n",
            "Preparing to unpack .../6-xfonts-base_1%3a1.0.5_all.deb ...\n",
            "Unpacking xfonts-base (1:1.0.5) ...\n",
            "Selecting previously unselected package xserver-common.\n",
            "Preparing to unpack .../7-xserver-common_2%3a21.1.4-2ubuntu1.7~22.04.11_all.deb ...\n",
            "Unpacking xserver-common (2:21.1.4-2ubuntu1.7~22.04.11) ...\n",
            "Selecting previously unselected package xvfb.\n",
            "Preparing to unpack .../8-xvfb_2%3a21.1.4-2ubuntu1.7~22.04.11_amd64.deb ...\n",
            "Unpacking xvfb (2:21.1.4-2ubuntu1.7~22.04.11) ...\n",
            "Setting up libfontenc1:amd64 (1:1.1.4-1build3) ...\n",
            "Setting up xfonts-encodings (1:1.0.5-0ubuntu2) ...\n",
            "Setting up libxkbfile1:amd64 (1:1.1.0-1build3) ...\n",
            "Setting up libxfont2:amd64 (1:2.0.5-1build1) ...\n",
            "Setting up x11-xkb-utils (7.7+5build4) ...\n",
            "Setting up xfonts-utils (1:7.7+6build2) ...\n",
            "Setting up xfonts-base (1:1.0.5) ...\n",
            "Setting up xserver-common (2:21.1.4-2ubuntu1.7~22.04.11) ...\n",
            "Setting up xvfb (2:21.1.4-2ubuntu1.7~22.04.11) ...\n",
            "Processing triggers for man-db (2.10.2-1) ...\n",
            "Processing triggers for fontconfig (2.13.1-4.2ubuntu5) ...\n",
            "Processing triggers for libc-bin (2.35-0ubuntu3.4) ...\n",
            "/sbin/ldconfig.real: /usr/local/lib/libur_adapter_level_zero.so.0 is not a symbolic link\n",
            "\n",
            "/sbin/ldconfig.real: /usr/local/lib/libtbbbind_2_0.so.3 is not a symbolic link\n",
            "\n",
            "/sbin/ldconfig.real: /usr/local/lib/libtbbmalloc_proxy.so.2 is not a symbolic link\n",
            "\n",
            "/sbin/ldconfig.real: /usr/local/lib/libur_loader.so.0 is not a symbolic link\n",
            "\n",
            "/sbin/ldconfig.real: /usr/local/lib/libtbb.so.12 is not a symbolic link\n",
            "\n",
            "/sbin/ldconfig.real: /usr/local/lib/libur_adapter_opencl.so.0 is not a symbolic link\n",
            "\n",
            "/sbin/ldconfig.real: /usr/local/lib/libtbbbind.so.3 is not a symbolic link\n",
            "\n",
            "/sbin/ldconfig.real: /usr/local/lib/libtbbmalloc.so.2 is not a symbolic link\n",
            "\n",
            "/sbin/ldconfig.real: /usr/local/lib/libtbbbind_2_5.so.3 is not a symbolic link\n",
            "\n",
            "Reading package lists... Done\n",
            "Building dependency tree... Done\n",
            "Reading state information... Done\n",
            "The following additional packages will be installed:\n",
            "  swig4.0\n",
            "Suggested packages:\n",
            "  swig-doc swig-examples swig4.0-examples swig4.0-doc\n",
            "The following NEW packages will be installed:\n",
            "  swig swig4.0\n",
            "0 upgraded, 2 newly installed, 0 to remove and 49 not upgraded.\n",
            "Need to get 1,116 kB of archives.\n",
            "After this operation, 5,542 kB of additional disk space will be used.\n",
            "Get:1 http://archive.ubuntu.com/ubuntu jammy/universe amd64 swig4.0 amd64 4.0.2-1ubuntu1 [1,110 kB]\n",
            "Get:2 http://archive.ubuntu.com/ubuntu jammy/universe amd64 swig all 4.0.2-1ubuntu1 [5,632 B]\n",
            "Fetched 1,116 kB in 1s (748 kB/s)\n",
            "Selecting previously unselected package swig4.0.\n",
            "(Reading database ... 124160 files and directories currently installed.)\n",
            "Preparing to unpack .../swig4.0_4.0.2-1ubuntu1_amd64.deb ...\n",
            "Unpacking swig4.0 (4.0.2-1ubuntu1) ...\n",
            "Selecting previously unselected package swig.\n",
            "Preparing to unpack .../swig_4.0.2-1ubuntu1_all.deb ...\n",
            "Unpacking swig (4.0.2-1ubuntu1) ...\n",
            "Setting up swig4.0 (4.0.2-1ubuntu1) ...\n",
            "Setting up swig (4.0.2-1ubuntu1) ...\n",
            "Processing triggers for man-db (2.10.2-1) ...\n",
            "Requirement already satisfied: gym[box2d] in /usr/local/lib/python3.10/dist-packages (0.25.2)\n",
            "Requirement already satisfied: numpy>=1.18.0 in /usr/local/lib/python3.10/dist-packages (from gym[box2d]) (1.26.4)\n",
            "Requirement already satisfied: cloudpickle>=1.2.0 in /usr/local/lib/python3.10/dist-packages (from gym[box2d]) (2.2.1)\n",
            "Requirement already satisfied: gym-notices>=0.0.4 in /usr/local/lib/python3.10/dist-packages (from gym[box2d]) (0.0.8)\n",
            "Collecting box2d-py==2.3.5 (from gym[box2d])\n",
            "  Downloading box2d-py-2.3.5.tar.gz (374 kB)\n",
            "\u001b[2K     \u001b[90m━━━━━━━━━━━━━━━━━━━━━━━━━━━━━━━━━━━━━━━━\u001b[0m \u001b[32m374.4/374.4 kB\u001b[0m \u001b[31m8.8 MB/s\u001b[0m eta \u001b[36m0:00:00\u001b[0m\n",
            "\u001b[?25h  Preparing metadata (setup.py) ... \u001b[?25l\u001b[?25hdone\n",
            "Collecting pygame==2.1.0 (from gym[box2d])\n",
            "  Downloading pygame-2.1.0-cp310-cp310-manylinux_2_17_x86_64.manylinux2014_x86_64.whl.metadata (9.5 kB)\n",
            "Collecting swig==4.* (from gym[box2d])\n",
            "  Downloading swig-4.2.1-py2.py3-none-manylinux_2_5_x86_64.manylinux1_x86_64.whl.metadata (3.6 kB)\n",
            "Downloading pygame-2.1.0-cp310-cp310-manylinux_2_17_x86_64.manylinux2014_x86_64.whl (18.3 MB)\n",
            "\u001b[2K   \u001b[90m━━━━━━━━━━━━━━━━━━━━━━━━━━━━━━━━━━━━━━━━\u001b[0m \u001b[32m18.3/18.3 MB\u001b[0m \u001b[31m27.4 MB/s\u001b[0m eta \u001b[36m0:00:00\u001b[0m\n",
            "\u001b[?25hDownloading swig-4.2.1-py2.py3-none-manylinux_2_5_x86_64.manylinux1_x86_64.whl (1.9 MB)\n",
            "\u001b[2K   \u001b[90m━━━━━━━━━━━━━━━━━━━━━━━━━━━━━━━━━━━━━━━━\u001b[0m \u001b[32m1.9/1.9 MB\u001b[0m \u001b[31m63.2 MB/s\u001b[0m eta \u001b[36m0:00:00\u001b[0m\n",
            "\u001b[?25hBuilding wheels for collected packages: box2d-py\n",
            "  Building wheel for box2d-py (setup.py) ... \u001b[?25l\u001b[?25hdone\n",
            "  Created wheel for box2d-py: filename=box2d_py-2.3.5-cp310-cp310-linux_x86_64.whl size=2349114 sha256=74957fb8ae31a106da23b8b41a270b817dbe2af73c60bb495bdba7155dde4c98\n",
            "  Stored in directory: /root/.cache/pip/wheels/db/8f/6a/eaaadf056fba10a98d986f6dce954e6201ba3126926fc5ad9e\n",
            "Successfully built box2d-py\n",
            "Installing collected packages: swig, box2d-py, pygame\n",
            "  Attempting uninstall: pygame\n",
            "    Found existing installation: pygame 2.6.0\n",
            "    Uninstalling pygame-2.6.0:\n",
            "      Successfully uninstalled pygame-2.6.0\n",
            "Successfully installed box2d-py-2.3.5 pygame-2.1.0 swig-4.2.1\n"
          ]
        }
      ],
      "source": [
        "!pip install pyvirtualdisplay\n",
        "!apt-get install xvfb\n",
        "!apt-get install -y swig\n",
        "!pip install gym[box2d]"
      ]
    },
    {
      "cell_type": "code",
      "execution_count": null,
      "metadata": {
        "id": "4gsCL45sYmeR"
      },
      "outputs": [],
      "source": [
        "import gym\n",
        "import PIL.Image\n",
        "from pyvirtualdisplay import Display\n",
        "import time\n",
        "import numpy as np\n",
        "import random\n",
        "from collections import deque, namedtuple"
      ]
    },
    {
      "cell_type": "code",
      "execution_count": null,
      "metadata": {
        "id": "urzK9pfTfzbM"
      },
      "outputs": [],
      "source": [
        "import warnings\n",
        "warnings.filterwarnings('ignore')"
      ]
    },
    {
      "cell_type": "code",
      "execution_count": null,
      "metadata": {
        "colab": {
          "base_uri": "https://localhost:8080/"
        },
        "id": "CJ8FrmcoYywD",
        "outputId": "c1efa35f-09d2-46e8-dc3d-10b13a4f42ed"
      },
      "outputs": [
        {
          "data": {
            "text/plain": [
              "<pyvirtualdisplay.display.Display at 0x7a48fc14df00>"
            ]
          },
          "execution_count": 4,
          "metadata": {},
          "output_type": "execute_result"
        }
      ],
      "source": [
        "Display(visible=0, size=(840, 480)).start()"
      ]
    },
    {
      "cell_type": "code",
      "execution_count": null,
      "metadata": {
        "id": "fgzY0dNIZkam"
      },
      "outputs": [],
      "source": [
        "env = gym.make('LunarLander-v2')"
      ]
    },
    {
      "cell_type": "code",
      "execution_count": null,
      "metadata": {
        "colab": {
          "base_uri": "https://localhost:8080/",
          "height": 417
        },
        "id": "MEOeqtEQfD82",
        "outputId": "a7d3fe18-47f4-4aed-b45a-bbf75c284fc0"
      },
      "outputs": [
        {
          "data": {
            "image/png": "[encoded data removed]",
            "text/plain": [
              "<PIL.Image.Image image mode=RGB size=600x400>"
            ]
          },
          "execution_count": 6,
          "metadata": {},
          "output_type": "execute_result"
        }
      ],
      "source": [
        "env.reset()\n",
        "PIL.Image.fromarray(env.render(mode='rgb_array'))"
      ]
    },
    {
      "cell_type": "code",
      "execution_count": null,
      "metadata": {
        "colab": {
          "base_uri": "https://localhost:8080/"
        },
        "id": "SzMEq7FLfKNb",
        "outputId": "3bf01dbd-83b4-4317-9a5a-1dbf5d222856"
      },
      "outputs": [
        {
          "name": "stdout",
          "output_type": "stream",
          "text": [
            "Total Number of Observations : (8,)\n",
            "Total Number of Actions : 4\n"
          ]
        }
      ],
      "source": [
        "print(f\"Total Number of Observations : {env.observation_space.shape}\")\n",
        "print(f\"Total Number of Actions : {env.action_space.n}\")"
      ]
    },
    {
      "cell_type": "code",
      "execution_count": null,
      "metadata": {
        "id": "7Ii5pzAygZED"
      },
      "outputs": [],
      "source": [
        "current_state = env.reset()"
      ]
    },
    {
      "cell_type": "code",
      "execution_count": null,
      "metadata": {
        "colab": {
          "base_uri": "https://localhost:8080/",
          "height": 526
        },
        "id": "xsIi_oCpie8U",
        "outputId": "d4bdada0-bf23-4617-c0ec-30cbb4fe034f"
      },
      "outputs": [
        {
          "name": "stdout",
          "output_type": "stream",
          "text": [
            "[ 1.3483048e-03  1.4108433e+00  1.3654630e-01 -3.4132111e-03\n",
            " -1.5554980e-03 -3.0929765e-02  0.0000000e+00  0.0000000e+00]\n",
            "[ 2.6519776e-03  1.4108417e+00  1.3214144e-01 -7.2689807e-05\n",
            " -3.3006598e-03 -3.4905922e-02  0.0000000e+00  0.0000000e+00]\n",
            "-0.02979368792863396\n",
            "False\n"
          ]
        },
        {
          "data": {
            "image/png": "[encoded data removed]",
            "text/plain": [
              "<PIL.Image.Image image mode=RGB size=600x400>"
            ]
          },
          "execution_count": 9,
          "metadata": {},
          "output_type": "execute_result"
        }
      ],
      "source": [
        "action = 2\n",
        "\n",
        "next_state, reward, done, _ = env.step(action)\n",
        "\n",
        "print(current_state)\n",
        "print(next_state)\n",
        "print(reward)\n",
        "print(done)\n",
        "\n",
        "current_state = next_state\n",
        "\n",
        "PIL.Image.fromarray(env.render(mode='rgb_array'))"
      ]
    },
    {
      "cell_type": "code",
      "execution_count": null,
      "metadata": {
        "id": "M1WxOE9BjpZu"
      },
      "outputs": [],
      "source": [
        "from tensorflow.keras import Sequential\n",
        "from tensorflow.keras.layers import Dense, Input\n",
        "from tensorflow.keras.optimizers import Adam\n",
        "from tensorflow.keras.losses import MSE\n",
        "import tensorflow as tf\n",
        "tf.random.set_seed(0)     #############"
      ]
    },
    {
      "cell_type": "code",
      "execution_count": null,
      "metadata": {
        "id": "D6EABc8MSUG9"
      },
      "outputs": [],
      "source": [
        "num_observations = env.observation_space.shape"
      ]
    },
    {
      "cell_type": "code",
      "execution_count": null,
      "metadata": {
        "id": "_mx3bNtpHz0O"
      },
      "outputs": [],
      "source": [
        "DQN = Sequential([\n",
        "    Input(shape=num_observations),\n",
        "    Dense(units=64,activation='relu'),\n",
        "    Dense(units=64,activation='relu'),\n",
        "    Dense(units=4,activation='linear')\n",
        "])\n",
        "\n",
        "target_DQN = Sequential([\n",
        "    Input(shape=num_observations),\n",
        "    Dense(units=64,activation='relu'),\n",
        "    Dense(units=64,activation='relu'),\n",
        "    Dense(units=4,activation='linear')\n",
        "])"
      ]
    },
    {
      "cell_type": "code",
      "execution_count": null,
      "metadata": {
        "id": "d4o4BXmJlJ6l"
      },
      "outputs": [],
      "source": [
        "def calculate_loss(experiences, gamma, DQN, target_DQN):\n",
        "\n",
        "  current_states, actions, rewards, next_states, done_values = experiences\n",
        "\n",
        "  max_Q_values = tf.reduce_max(target_DQN(next_states), axis=-1)\n",
        "  Y_target = rewards + (gamma*max_Q_values*(1-done_values))\n",
        "\n",
        "  q_values = DQN(current_states)\n",
        "  Q_values = tf.gather_nd(q_values, tf.stack([tf.range(q_values.shape[0]),tf.cast(actions,tf.int32)],axis=1))\n",
        "\n",
        "  loss = MSE(Y_target, Q_values)\n",
        "\n",
        "  return loss"
      ]
    },
    {
      "cell_type": "code",
      "execution_count": null,
      "metadata": {
        "id": "7eYvHsW9xkoz"
      },
      "outputs": [],
      "source": [
        "alpha = 1e-3\n",
        "optimizer = Adam(learning_rate = alpha)"
      ]
    },
    {
      "cell_type": "code",
      "execution_count": null,
      "metadata": {
        "id": "0jYpEIJTRpdb"
      },
      "outputs": [],
      "source": [
        "# SOFT UPDATE\n",
        "def update_target_network(DQN, target_DQN):\n",
        "    for dqn_weights, target_dqn_weights in zip(DQN.weights, target_DQN.weights):\n",
        "      target_dqn_weights.assign(alpha*dqn_weights + (1.0-alpha)*target_dqn_weights)"
      ]
    },
    {
      "cell_type": "code",
      "execution_count": null,
      "metadata": {
        "id": "GC_GRRS7ud4J"
      },
      "outputs": [],
      "source": [
        "@tf.function\n",
        "def agent_learn(experiences, gamma):\n",
        "  with tf.GradientTape() as tape:\n",
        "    loss = calculate_loss(experiences, gamma, DQN, target_DQN)\n",
        "\n",
        "  gradients = tape.gradient(loss, DQN.trainable_variables)\n",
        "\n",
        "  optimizer.apply_gradients(zip(gradients,DQN.trainable_variables))\n",
        "\n",
        "  update_target_network(DQN,target_DQN)"
      ]
    },
    {
      "cell_type": "code",
      "execution_count": null,
      "metadata": {
        "id": "67aofXnRDOrW"
      },
      "outputs": [],
      "source": [
        "experience = namedtuple(\"Experience\", field_names=[\"state\", \"action\", \"reward\", \"next_state\", \"done\"])"
      ]
    },
    {
      "cell_type": "code",
      "execution_count": null,
      "metadata": {
        "id": "gQ5YFxiMGHpZ"
      },
      "outputs": [],
      "source": [
        "MINIBATCH_SIZE = 64\n",
        "def get_experiences(memory_buffer):\n",
        "\n",
        "  experiences = random.sample(memory_buffer, k=MINIBATCH_SIZE)\n",
        "  states = tf.convert_to_tensor(\n",
        "      np.array([e.state for e in experiences if e is not None]), dtype=tf.float32\n",
        "  )\n",
        "  actions = tf.convert_to_tensor(\n",
        "      np.array([e.action for e in experiences if e is not None]), dtype=tf.float32\n",
        "  )\n",
        "  rewards = tf.convert_to_tensor(\n",
        "      np.array([e.reward for e in experiences if e is not None]), dtype=tf.float32\n",
        "  )\n",
        "  next_states = tf.convert_to_tensor(\n",
        "      np.array([e.next_state for e in experiences if e is not None]), dtype=tf.float32\n",
        "  )\n",
        "  done_vals = tf.convert_to_tensor(\n",
        "      np.array([e.done for e in experiences if e is not None]).astype(np.uint8),\n",
        "      dtype=tf.float32,\n",
        "  )\n",
        "  return (states, actions, rewards, next_states, done_vals)"
      ]
    },
    {
      "cell_type": "code",
      "execution_count": null,
      "metadata": {
        "colab": {
          "base_uri": "https://localhost:8080/"
        },
        "id": "64eh6AVs4uZE",
        "outputId": "015e45bf-524e-4f1f-bb73-767bef2e2a78"
      },
      "outputs": [
        {
          "name": "stdout",
          "output_type": "stream",
          "text": [
            "Episode 100 | Total point average of the last 100 episodes: -163.79\n",
            "Episode 200 | Total point average of the last 100 episodes: -101.07\n",
            "Episode 300 | Total point average of the last 100 episodes: -65.54\n",
            "Episode 400 | Total point average of the last 100 episodes: 29.56\n",
            "Episode 500 | Total point average of the last 100 episodes: 151.07\n",
            "Episode 600 | Total point average of the last 100 episodes: 177.82\n",
            "Episode 650 | Total point average of the last 100 episodes: 199.08"
          ]
        },
        {
          "name": "stderr",
          "output_type": "stream",
          "text": [
            "WARNING:absl:You are saving your model as an HDF5 file via `model.save()` or `keras.saving.save_model(model)`. This file format is considered legacy. We recommend using instead the native Keras format, e.g. `model.save('my_model.keras')` or `keras.saving.save_model(model, 'my_model.keras')`. \n"
          ]
        },
        {
          "name": "stdout",
          "output_type": "stream",
          "text": [
            "\rEpisode 651 | Total point average of the last 100 episodes: 201.20\n",
            "\n",
            "Environment solved in 651 episodes!\n",
            "Total Time require To Train a Model : 30.67 min\n"
          ]
        }
      ],
      "source": [
        "start = time.time()\n",
        "\n",
        "episodes_num = 2000\n",
        "max_steps_num = 1000\n",
        "\n",
        "MEMORY_SIZE = 100_000\n",
        "memory_buffer = deque(maxlen = MEMORY_SIZE)\n",
        "\n",
        "point_history = []\n",
        "\n",
        "epsilon = 1.0\n",
        "gamma = 0.995\n",
        "E_DECAY = 0.995\n",
        "E_MIN = 0.01\n",
        "SIZE_TO_AVG = 100\n",
        "\n",
        "target_DQN.set_weights(DQN.get_weights())\n",
        "\n",
        "for i in range(episodes_num):\n",
        "  state = env.reset()\n",
        "  total_reward_points = 0\n",
        "\n",
        "  for j in range(max_steps_num):\n",
        "    qn_state = np.expand_dims(state,axis=0)\n",
        "    q_values = DQN(qn_state)\n",
        "\n",
        "    action = np.argmax(q_values.numpy()[0]) if (random.random() > epsilon) else random.choice(np.arange(4))\n",
        "\n",
        "    next_state, reward, done, _ = env.step(action)\n",
        "\n",
        "    memory_buffer.append(experience(state, action, reward, next_state, done))\n",
        "\n",
        "    update = True if ((j+1)%4 ==0 and len(memory_buffer) > 64) else False\n",
        "\n",
        "    if update:\n",
        "      experiences = get_experiences(memory_buffer)\n",
        "      agent_learn(experiences, gamma)\n",
        "\n",
        "    state = next_state.copy()\n",
        "    total_reward_points += reward\n",
        "\n",
        "    if done:\n",
        "      break\n",
        "  point_history.append(total_reward_points)\n",
        "  avg_points = np.mean(point_history[-SIZE_TO_AVG:])\n",
        "\n",
        "  epsilon = max(E_MIN, E_DECAY * epsilon)\n",
        "\n",
        "  print(f\"\\rEpisode {i+1} | Total point average of the last {SIZE_TO_AVG} episodes: {avg_points:.2f}\", end=\"\")\n",
        "\n",
        "  if (i+1) % 100 == 0:\n",
        "    print(f\"\\rEpisode {i+1} | Total point average of the last {SIZE_TO_AVG} episodes: {avg_points:.2f}\")\n",
        "\n",
        "  if avg_points > 200:\n",
        "    print(f\"\\n\\nEnvironment solved in {i+1} episodes!\")\n",
        "    DQN.save('lunar_lander_model.h5')\n",
        "    break\n",
        "\n",
        "\n",
        "stop = time.time()\n",
        "print(f\"Total Time require To Train a Model : {(stop-start)/60:.2f} min\")"
      ]
    },
    {
      "cell_type": "code",
      "execution_count": null,
      "metadata": {
        "id": "JBcB04kQPS8k"
      },
      "outputs": [],
      "source": [
        "import imageio\n",
        "import IPython\n",
        "import base64\n",
        "\n",
        "def embed_mp4(filename):\n",
        "    video = open(filename, \"rb\").read()\n",
        "    b64 = base64.b64encode(video)\n",
        "    tag = \"\"\"\n",
        "    <video width=\"840\" height=\"480\" controls>\n",
        "    <source src=\"data:video/mp4;base64,{0}\" type=\"video/mp4\">\n",
        "    Your browser does not support the video tag.\n",
        "    </video>\"\"\".format(\n",
        "        b64.decode()\n",
        "    )\n",
        "\n",
        "    return IPython.display.HTML(tag)\n",
        "\n",
        "\n",
        "def create_video(filename, env, q_network, fps=30):\n",
        "    with imageio.get_writer(filename, fps=fps) as video:\n",
        "        done = False\n",
        "        state = env.reset()\n",
        "        frame = env.render(mode=\"rgb_array\")\n",
        "        video.append_data(frame)\n",
        "        while not done:\n",
        "            state = np.expand_dims(state, axis=0)\n",
        "            q_values = q_network(state)\n",
        "            action = np.argmax(q_values.numpy()[0])\n",
        "            state, _, done, _ = env.step(action)\n",
        "            frame = env.render(mode=\"rgb_array\")\n",
        "            video.append_data(frame)"
      ]
    },
    {
      "cell_type": "code",
      "execution_count": null,
      "metadata": {
        "colab": {
          "background_save": true,
          "base_uri": "https://localhost:8080/",
          "height": 539
        },
        "id": "MvNCVBDbeOSl",
        "outputId": "21d786af-b62e-4bfd-aa86-92eb818aecd8"
      },
      "outputs": [
        {
          "name": "stderr",
          "output_type": "stream",
          "text": [
            "WARNING:imageio_ffmpeg:IMAGEIO FFMPEG_WRITER WARNING: input image is not divisible by macro_block_size=16, resizing from (600, 400) to (608, 400) to ensure video compatibility with most codecs and players. To prevent resizing, make your input image divisible by the macro_block_size or set the macro_block_size to 1 (risking incompatibility).\n"
          ]
        },
        {
          "data": {
            "text/html": [
              "\n",
              "    <video width=\"840\" height=\"480\" controls>\n",
              "    <source src=\"data:video/mp4;base64,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\" type=\"video/mp4\">\n",
              "    Your browser does not support the video tag.\n",
              "    </video>"
            ],
            "text/plain": [
              "<IPython.core.display.HTML object>"
            ]
          },
          "execution_count": 45,
          "metadata": {},
          "output_type": "execute_result"
        }
      ],
      "source": [
        "filename = \"lunar_lander.mp4\"\n",
        "\n",
        "create_video(filename, env, DQN)\n",
        "embed_mp4(filename)"
      ]
    }
  ],
  "metadata": {
    "colab": {
      "provenance": []
    },
    "kernelspec": {
      "display_name": "Python 3",
      "name": "python3"
    },
    "language_info": {
      "name": "python"
    }
  },
  "nbformat": 4,
  "nbformat_minor": 0
}